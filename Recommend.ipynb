{
 "metadata": {
  "name": ""
 },
 "nbformat": 3,
 "nbformat_minor": 0,
 "worksheets": [
  {
   "cells": [
    {
     "cell_type": "code",
     "collapsed": false,
     "input": [
      "import pandas as pd\n",
      "import graphlab as gl\n",
      "\n",
      "# \u9884\u5904\u7406\u540e\u7684\u6570\u636e\u96c6\n",
      "data = gl.SFrame.read_csv(\"data/season1/train_rate_data.csv\", column_type_hints={'user_id': int, 'brand_id':int, 'rating':float})\n",
      "\n",
      "# \u77e9\u9635\u5206\u89e3\u6a21\u578b\n",
      "mf_model = gl.recommender.matrix_factorization.create(data, \"user_id\", \"brand_id\", \"rating\")\n",
      "mf_model.save(\"data/season1/model.mf.gl\")\n",
      "\n",
      "# \u751f\u6210\u77e9\u9635\u5206\u89e3\u6a21\u578b\u7684\u63a8\u8350\u5217\u8868\n",
      "mf_recommend_df = mf_model.recommend(data, k=5).to_dataframe()\n",
      "gb = mf_recommend_df[mf_recommend_df.score > mf_recommend_df.score.mean()].groupby(['user_id'])\n",
      "with open(\"data/season1/recommend.mf.txt\", 'w') as fd:\n",
      "    for key, group in gb:\n",
      "        recommend_list = \",\".join([str(x) for x in group['brand_id'].unique()])\n",
      "        fd.write(\"%u\\t%s\\n\" % (key, recommend_list))\n",
      "\n",
      "\n",
      "# Item-Based\u534f\u540c\u8fc7\u6ee4\u6a21\u578b\n",
      "ib_model = gl.recommender.item_similarity.create(data, \"user_id\", \"brand_id\", \"rating\")\n",
      "ib_model.save(\"data/season1/model.ib.gl\")\n",
      "\n",
      "# \u751f\u6210Item-Based\u534f\u540c\u8fc7\u6ee4\u6a21\u578b\u7684\u63a8\u8350\u5217\u8868\n",
      "ib_recommend_df = ib_model.recommend(data, k=5).to_dataframe()\n",
      "gb = ib_recommend_df[ib_recommend_df.score > ib_recommend_df.score.mean()].groupby(['user_id'])\n",
      "with open(\"data/season1/recommend.ib.txt\", 'w') as fd:\n",
      "    for key, group in gb:\n",
      "        recommend_list = \",\".join([str(x) for x in group['brand_id'].unique()])\n",
      "        fd.write(\"%u\\t%s\\n\" % (key, recommend_list))\n",
      "        \n",
      "\n",
      "# \u7ebf\u6027\u56de\u5f52\u6a21\u578b\n",
      "linreg_model = gl.recommender.linear_regression.create(data, \"user_id\", \"brand_id\", \"rating\")\n",
      "linreg_model.save(\"data/season1/model.linreg.gl\")\n",
      "\n",
      "# \u751f\u6210\u7ebf\u6027\u56de\u5f52\u6a21\u578b\u7684\u63a8\u8350\u5217\u8868\n",
      "linreg_recommend_df = linreg_model.recommend(data, k=5).to_dataframe()\n",
      "gb = linreg_recommend_df[linreg_recommend_df.score > linreg_recommend_df.score.mean()].groupby(['user_id'])\n",
      "with open(\"data/season1/recommend.linreg.txt\", 'w') as fd:\n",
      "    for key, group in gb:\n",
      "        recommend_list = \",\".join([str(x) for x in group['brand_id'].unique()])\n",
      "        fd.write(\"%u\\t%s\\n\" % (key, recommend_list))\n",
      "        \n",
      "\n",
      "# \u903b\u8f91\u56de\u5f52\u6a21\u578b\n",
      "data_df = data.to_dataframe()\n",
      "rating_mean = data_df.rating.mean()\n",
      "data_df['rating'] = data_df.rating.apply(lambda x: 1 if x > rating_mean else 0)\n",
      "logreg_model = gl.recommender.logistic_regression.create(data_df, \"user_id\", \"brand_id\", \"rating\")\n",
      "logreg_model.save(\"data/season1/model.logreg.gl\")\n",
      "\n",
      "# \u751f\u6210\u903b\u8f91\u56de\u5f52\u6a21\u578b\u7684\u63a8\u8350\u5217\u8868\n",
      "logreg_recommend_df = logreg_model.recommend(data, k=5).to_dataframe()\n",
      "gb = logreg_recommend_df[logreg_recommend_df.score > logreg_recommend_df.score.mean()].groupby(['user_id'])\n",
      "with open(\"data/season1/recommend.logreg.txt\", 'w') as fd:\n",
      "    for key, group in gb:\n",
      "        recommend_list = \",\".join([str(x) for x in group['brand_id'].unique()])\n",
      "        fd.write(\"%u\\t%s\\n\" % (key, recommend_list))"
     ],
     "language": "python",
     "metadata": {},
     "outputs": [],
     "prompt_number": 10
    },
    {
     "cell_type": "code",
     "collapsed": false,
     "input": [
      "import pandas as pd\n",
      "import graphlab as gl\n",
      "\n",
      "# \u4f7f\u7528\u539f\u751f\u6570\u636e\u96c6\n",
      "linreg_df0 = pd.read_csv(\"data/season1/train_linreg-0.csv\", parse_dates=['visit_datetime'], encoding=\"gbk\")\n",
      "logreg_df0 = pd.read_csv(\"data/season1/train_logreg-0.csv\", parse_dates=['visit_datetime'], encoding=\"gbk\")\n",
      "linreg_df1 = pd.read_csv(\"data/season1/train_linreg-1.csv\", parse_dates=['visit_datetime'], encoding=\"gbk\")\n",
      "logreg_df1 = pd.read_csv(\"data/season1/train_logreg-1.csv\", parse_dates=['visit_datetime'], encoding=\"gbk\")\n",
      "\n",
      "# \u628a\u65f6\u95f4\u6233\u8f6c\u6362\u6210\u6574\u578b\uff0cGraphLab\u6682\u65f6\u4e0d\u517c\u5bb9Timestamp\u7c7b\u578b\n",
      "linreg_df0['visit_datetime'] = linreg_df0['visit_datetime'].astype('int')\n",
      "logreg_df0['visit_datetime'] = logreg_df0['visit_datetime'].astype('int')\n",
      "linreg_df1['visit_datetime'] = linreg_df1['visit_datetime'].astype('int')\n",
      "logreg_df1['visit_datetime'] = logreg_df1['visit_datetime'].astype('int')\n",
      "\n",
      "# \u7ebf\u6027\u56de\u5f52\u6a21\u578b\n",
      "linreg_model = gl.recommender.linear_regression.create(linreg_df0, \"user_id\", \"brand_id\", \"buy\")\n",
      "linreg_model.save(\"data/season1/model.linreg.orig.gl\")\n",
      "\n",
      "# \u751f\u6210\u7ebf\u6027\u56de\u5f52\u6a21\u578b\u7684\u63a8\u8350\u5217\u8868\n",
      "linreg_recommend_df = linreg_model.recommend(linreg_df1, k=5).to_dataframe()\n",
      "gb = linreg_recommend_df[linreg_recommend_df.score > linreg_recommend_df.score.mean()].groupby(['user_id'])\n",
      "with open(\"data/season1/recommend.linreg.orig.txt\", 'w') as fd:\n",
      "    for key, group in gb:\n",
      "        recommend_list = \",\".join([str(x) for x in group['brand_id'].unique()])\n",
      "        fd.write(\"%u\\t%s\\n\" % (key, recommend_list))\n",
      "\n",
      "# \u903b\u8f91\u56de\u5f52\u6a21\u578b\n",
      "logreg_model = gl.recommender.logistic_regression.create(logreg_df0, \"user_id\", \"brand_id\", \"buy\")\n",
      "logreg_model.save(\"data/season1/model.logreg.orig.gl\")\n",
      "\n",
      "# \u751f\u6210\u903b\u8f91\u56de\u5f52\u6a21\u578b\u7684\u63a8\u8350\u5217\u8868\n",
      "logreg_recommend_df = logreg_model.recommend(logreg_df1, k=5).to_dataframe()\n",
      "gb = logreg_recommend_df[logreg_recommend_df.score > logreg_recommend_df.score.mean()].groupby(['user_id'])\n",
      "with open(\"data/season1/recommend.logreg.orig.txt\", 'w') as fd:\n",
      "    for key, group in gb:\n",
      "        recommend_list = \",\".join([str(x) for x in group['brand_id'].unique()])\n",
      "        fd.write(\"%u\\t%s\\n\" % (key, recommend_list))"
     ],
     "language": "python",
     "metadata": {},
     "outputs": [],
     "prompt_number": "*"
    },
    {
     "cell_type": "code",
     "collapsed": false,
     "input": [
      "import pandas as pd\n",
      "import graphlab as gl\n",
      "\n",
      "# \u76f4\u63a5\u6839\u636e\u8bc4\u5206\u77e9\u9635\u8f93\u51fa\u63a8\u8350\u5217\u8868\n",
      "df = pd.read_csv(\"data/season1/rate_data.csv\", encoding=\"gbk\")\n",
      "gb = df.groupby('user_id')\n",
      "with open(\"data/season1/recommend.direct.txt\", 'w') as fd:\n",
      "    for key, group in gb:\n",
      "        bid_list = group[group.rating > 0.5]['brand_id'].unique()\n",
      "        if (len(bid_list) > 0):\n",
      "            recommend_list = \",\".join([str(x) for x in bid_list])\n",
      "            fd.write(\"%u\\t%s\\n\" % (key, recommend_list))"
     ],
     "language": "python",
     "metadata": {},
     "outputs": [],
     "prompt_number": 67
    },
    {
     "cell_type": "code",
     "collapsed": false,
     "input": [
      "import pandas as pd\n",
      "from concept.recommender import *\n",
      "\n",
      "# \u4f7f\u7528\u6982\u5ff5\u683c\u63a8\u8350\u6a21\u578b\n",
      "df = pd.read_csv(\"data/season1/rate_data.csv\", encoding=\"gbk\")\n",
      "recommender = create(df[:10000], 'user_id', 'brand_id', 'rating', 0.3, False)"
     ],
     "language": "python",
     "metadata": {},
     "outputs": [
      {
       "output_type": "stream",
       "stream": "stdout",
       "text": [
        "Entering pass 2\n",
        "generating concepts\n",
        "Entering pass 3"
       ]
      },
      {
       "output_type": "stream",
       "stream": "stdout",
       "text": [
        "\n",
        "generating concepts\n",
        "Entering pass 4"
       ]
      }
     ],
     "prompt_number": "*"
    },
    {
     "cell_type": "code",
     "collapsed": false,
     "input": [
      "recommend_df = recommender.recommend(k=15, surprised=0.2)\n",
      "combine_df = pd.concat([recommend_df.ix[:, ['user', 'item']].rename_axis({'user':'user_id', 'item':'brand_id'}, axis=1), df[df.rating > 0.5].ix[:, ['user_id', 'brand_id']]], axis=0, ignore_index=True)\n",
      "gb = combine_df.groupby('user_id')\n",
      "with open(\"data/season1/recommend.cl.txt\", 'w') as fd:\n",
      "    for key, group in gb:\n",
      "        bid_list = group['brand_id'].unique()\n",
      "        if (len(bid_list) > 0):\n",
      "            recommend_list = \",\".join([str(x) for x in bid_list])\n",
      "            fd.write(\"%u\\t%s\\n\" % (key, recommend_list))"
     ],
     "language": "python",
     "metadata": {},
     "outputs": [],
     "prompt_number": 2
    }
   ],
   "metadata": {}
  }
 ]
}